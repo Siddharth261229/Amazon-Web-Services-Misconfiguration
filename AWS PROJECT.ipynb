{
 "cells": [
  {
   "cell_type": "markdown",
   "id": "ce5eed18-a2d0-4421-bf0a-2f496676771d",
   "metadata": {},
   "source": [
    "## Cloud Misconfiguration Scanner"
   ]
  },
  {
   "cell_type": "markdown",
   "id": "f5867d0b-67de-4ec4-88d1-8f5b100dcecf",
   "metadata": {},
   "source": [
    "### Install Dependencies"
   ]
  },
  {
   "cell_type": "code",
   "execution_count": 8,
   "id": "98be3de6-3650-4ae4-991c-f031563272d0",
   "metadata": {},
   "outputs": [
    {
     "name": "stdout",
     "output_type": "stream",
     "text": [
      "Requirement already satisfied: boto3 in d:\\new folder\\anaconda\\lib\\site-packages (1.36.8)\n",
      "Requirement already satisfied: flask in d:\\new folder\\anaconda\\lib\\site-packages (2.2.5)\n",
      "Requirement already satisfied: pandas in d:\\new folder\\anaconda\\lib\\site-packages (1.5.3)\n",
      "Requirement already satisfied: python-dotenv in d:\\new folder\\anaconda\\lib\\site-packages (1.0.1)\n",
      "Requirement already satisfied: botocore<1.37.0,>=1.36.8 in d:\\new folder\\anaconda\\lib\\site-packages (from boto3) (1.36.8)\n",
      "Requirement already satisfied: jmespath<2.0.0,>=0.7.1 in d:\\new folder\\anaconda\\lib\\site-packages (from boto3) (1.0.1)\n",
      "Requirement already satisfied: s3transfer<0.12.0,>=0.11.0 in d:\\new folder\\anaconda\\lib\\site-packages (from boto3) (0.11.2)\n",
      "Requirement already satisfied: Werkzeug>=2.2.2 in d:\\new folder\\anaconda\\lib\\site-packages (from flask) (2.2.3)\n",
      "Requirement already satisfied: Jinja2>=3.0 in d:\\new folder\\anaconda\\lib\\site-packages (from flask) (3.1.3)\n",
      "Requirement already satisfied: itsdangerous>=2.0 in d:\\new folder\\anaconda\\lib\\site-packages (from flask) (2.0.1)\n",
      "Requirement already satisfied: click>=8.0 in d:\\new folder\\anaconda\\lib\\site-packages (from flask) (8.1.7)\n",
      "Requirement already satisfied: python-dateutil>=2.8.1 in d:\\new folder\\anaconda\\lib\\site-packages (from pandas) (2.8.2)\n",
      "Requirement already satisfied: pytz>=2020.1 in d:\\new folder\\anaconda\\lib\\site-packages (from pandas) (2023.3.post1)\n",
      "Requirement already satisfied: numpy>=1.21.0 in d:\\new folder\\anaconda\\lib\\site-packages (from pandas) (1.26.4)\n",
      "Requirement already satisfied: urllib3!=2.2.0,<3,>=1.25.4 in d:\\new folder\\anaconda\\lib\\site-packages (from botocore<1.37.0,>=1.36.8->boto3) (2.0.7)\n",
      "Requirement already satisfied: colorama in d:\\new folder\\anaconda\\lib\\site-packages (from click>=8.0->flask) (0.4.6)\n",
      "Requirement already satisfied: MarkupSafe>=2.0 in d:\\new folder\\anaconda\\lib\\site-packages (from Jinja2>=3.0->flask) (2.1.3)\n",
      "Requirement already satisfied: six>=1.5 in d:\\new folder\\anaconda\\lib\\site-packages (from python-dateutil>=2.8.1->pandas) (1.16.0)\n"
     ]
    }
   ],
   "source": [
    "!pip install boto3 flask pandas python-dotenv"
   ]
  },
  {
   "cell_type": "markdown",
   "id": "4d5541f7-156d-4bd0-a668-ddb872a7ffaa",
   "metadata": {},
   "source": [
    "### AWS Scanner (aws_scanner.py)"
   ]
  },
  {
   "cell_type": "code",
   "execution_count": 2,
   "id": "853ea220-0542-418b-848e-2b9dfc23f55b",
   "metadata": {},
   "outputs": [],
   "source": [
    "import boto3\n",
    "from botocore.exceptions import NoCredentialsError, PartialCredentialsError\n",
    "\n",
    "class AWSScanner:\n",
    "    def __init__(self):\n",
    "        self.ec2_client = boto3.client('ec2')\n",
    "        self.s3_client = boto3.client('s3')\n",
    "        self.iam_client = boto3.client('iam')\n",
    "        self.rds_client = boto3.client('rds')\n",
    "\n",
    "    def scan_ec2_instances(self):\n",
    "        try:\n",
    "            instances = self.ec2_client.describe_instances()\n",
    "            misconfigurations = []\n",
    "            for reservation in instances['Reservations']:\n",
    "                for instance in reservation['Instances']:\n",
    "                    if 'PublicIpAddress' in instance:\n",
    "                        misconfigurations.append({\n",
    "                            'ResourceId': instance['InstanceId'],\n",
    "                            'Issue': 'Public IP assigned',\n",
    "                            'Severity': 'High'\n",
    "                        })\n",
    "            return misconfigurations\n",
    "        except (NoCredentialsError, PartialCredentialsError):\n",
    "            return {\"error\": \"AWS credentials not found or invalid\"}"
   ]
  },
  {
   "cell_type": "code",
   "execution_count": 3,
   "id": "2c74cb13-518b-484d-a2cf-12a641e77516",
   "metadata": {},
   "outputs": [
    {
     "ename": "ClientError",
     "evalue": "An error occurred (AuthFailure) when calling the DescribeInstances operation: AWS was not able to validate the provided access credentials",
     "output_type": "error",
     "traceback": [
      "\u001b[1;31m---------------------------------------------------------------------------\u001b[0m",
      "\u001b[1;31mClientError\u001b[0m                               Traceback (most recent call last)",
      "Cell \u001b[1;32mIn[3], line 2\u001b[0m\n\u001b[0;32m      1\u001b[0m scanner \u001b[38;5;241m=\u001b[39m AWSScanner()\n\u001b[1;32m----> 2\u001b[0m ec2_misconfigs \u001b[38;5;241m=\u001b[39m scanner\u001b[38;5;241m.\u001b[39mscan_ec2_instances()\n\u001b[0;32m      4\u001b[0m all_misconfigs \u001b[38;5;241m=\u001b[39m ec2_misconfigs\n\u001b[0;32m      6\u001b[0m assessment \u001b[38;5;241m=\u001b[39m ConfigAssessment(all_misconfigs)\n",
      "Cell \u001b[1;32mIn[2], line 13\u001b[0m, in \u001b[0;36mAWSScanner.scan_ec2_instances\u001b[1;34m(self)\u001b[0m\n\u001b[0;32m     11\u001b[0m \u001b[38;5;28;01mdef\u001b[39;00m \u001b[38;5;21mscan_ec2_instances\u001b[39m(\u001b[38;5;28mself\u001b[39m):\n\u001b[0;32m     12\u001b[0m     \u001b[38;5;28;01mtry\u001b[39;00m:\n\u001b[1;32m---> 13\u001b[0m         instances \u001b[38;5;241m=\u001b[39m \u001b[38;5;28mself\u001b[39m\u001b[38;5;241m.\u001b[39mec2_client\u001b[38;5;241m.\u001b[39mdescribe_instances()\n\u001b[0;32m     14\u001b[0m         misconfigurations \u001b[38;5;241m=\u001b[39m []\n\u001b[0;32m     15\u001b[0m         \u001b[38;5;28;01mfor\u001b[39;00m reservation \u001b[38;5;129;01min\u001b[39;00m instances[\u001b[38;5;124m'\u001b[39m\u001b[38;5;124mReservations\u001b[39m\u001b[38;5;124m'\u001b[39m]:\n",
      "File \u001b[1;32mD:\\New folder\\Anaconda\\Lib\\site-packages\\botocore\\client.py:569\u001b[0m, in \u001b[0;36mClientCreator._create_api_method.<locals>._api_call\u001b[1;34m(self, *args, **kwargs)\u001b[0m\n\u001b[0;32m    565\u001b[0m     \u001b[38;5;28;01mraise\u001b[39;00m \u001b[38;5;167;01mTypeError\u001b[39;00m(\n\u001b[0;32m    566\u001b[0m         \u001b[38;5;124mf\u001b[39m\u001b[38;5;124m\"\u001b[39m\u001b[38;5;132;01m{\u001b[39;00mpy_operation_name\u001b[38;5;132;01m}\u001b[39;00m\u001b[38;5;124m() only accepts keyword arguments.\u001b[39m\u001b[38;5;124m\"\u001b[39m\n\u001b[0;32m    567\u001b[0m     )\n\u001b[0;32m    568\u001b[0m \u001b[38;5;66;03m# The \"self\" in this scope is referring to the BaseClient.\u001b[39;00m\n\u001b[1;32m--> 569\u001b[0m \u001b[38;5;28;01mreturn\u001b[39;00m \u001b[38;5;28mself\u001b[39m\u001b[38;5;241m.\u001b[39m_make_api_call(operation_name, kwargs)\n",
      "File \u001b[1;32mD:\\New folder\\Anaconda\\Lib\\site-packages\\botocore\\client.py:1023\u001b[0m, in \u001b[0;36mBaseClient._make_api_call\u001b[1;34m(self, operation_name, api_params)\u001b[0m\n\u001b[0;32m   1019\u001b[0m     error_code \u001b[38;5;241m=\u001b[39m error_info\u001b[38;5;241m.\u001b[39mget(\u001b[38;5;124m\"\u001b[39m\u001b[38;5;124mQueryErrorCode\u001b[39m\u001b[38;5;124m\"\u001b[39m) \u001b[38;5;129;01mor\u001b[39;00m error_info\u001b[38;5;241m.\u001b[39mget(\n\u001b[0;32m   1020\u001b[0m         \u001b[38;5;124m\"\u001b[39m\u001b[38;5;124mCode\u001b[39m\u001b[38;5;124m\"\u001b[39m\n\u001b[0;32m   1021\u001b[0m     )\n\u001b[0;32m   1022\u001b[0m     error_class \u001b[38;5;241m=\u001b[39m \u001b[38;5;28mself\u001b[39m\u001b[38;5;241m.\u001b[39mexceptions\u001b[38;5;241m.\u001b[39mfrom_code(error_code)\n\u001b[1;32m-> 1023\u001b[0m     \u001b[38;5;28;01mraise\u001b[39;00m error_class(parsed_response, operation_name)\n\u001b[0;32m   1024\u001b[0m \u001b[38;5;28;01melse\u001b[39;00m:\n\u001b[0;32m   1025\u001b[0m     \u001b[38;5;28;01mreturn\u001b[39;00m parsed_response\n",
      "\u001b[1;31mClientError\u001b[0m: An error occurred (AuthFailure) when calling the DescribeInstances operation: AWS was not able to validate the provided access credentials"
     ]
    }
   ],
   "source": [
    "scanner = AWSScanner()\n",
    "ec2_misconfigs = scanner.scan_ec2_instances()\n",
    "\n",
    "all_misconfigs = ec2_misconfigs\n",
    "\n",
    "assessment = ConfigAssessment(all_misconfigs)\n",
    "compliance_status = assessment.evaluate_compliance()\n",
    "print(\"Compliance Status:\", compliance_status)\n",
    "\n",
    "risk_scoring = RiskScoring(all_misconfigs)\n",
    "risk_score = risk_scoring.calculate_risk_score()\n",
    "print(\"Risk Score:\", risk_score)\n",
    "\n",
    "reporting = Reporting(all_misconfigs)\n",
    "reporting.generate_csv('report.csv')\n",
    "reporting.generate_json('report.json')"
   ]
  },
  {
   "cell_type": "markdown",
   "id": "2cb00f12-1b6b-49c1-927c-112a0c88358b",
   "metadata": {},
   "source": [
    "### Configuration Assessment Engine"
   ]
  },
  {
   "cell_type": "code",
   "execution_count": 4,
   "id": "961326a7-4d15-4608-bfec-443dc6f642ff",
   "metadata": {},
   "outputs": [],
   "source": [
    "class ConfigAssessment:\n",
    "    def __init__(self, misconfigurations):\n",
    "        self.misconfigurations = misconfigurations\n",
    "\n",
    "    def evaluate_compliance(self):\n",
    "        compliance_status = {\n",
    "            'CIS': True,\n",
    "            'NIST': True,\n",
    "            'PCI': True\n",
    "        }\n",
    "        for misconfig in self.misconfigurations:\n",
    "            if misconfig['Severity'] == 'Critical':\n",
    "                compliance_status['CIS'] = False\n",
    "                compliance_status['NIST'] = False\n",
    "                compliance_status['PCI'] = False\n",
    "        return compliance_status"
   ]
  },
  {
   "cell_type": "markdown",
   "id": "9d665312-c94b-40c6-916e-e3a53b9d85bb",
   "metadata": {},
   "source": [
    "### Risk Scoring Algorithm (risk_scoring.py)"
   ]
  },
  {
   "cell_type": "code",
   "execution_count": 5,
   "id": "39c07796-a5a2-4e02-a7bf-40494a17dce4",
   "metadata": {},
   "outputs": [],
   "source": [
    "class RiskScoring:\n",
    "    def __init__(self, misconfigurations):\n",
    "        self.misconfigurations = misconfigurations\n",
    "\n",
    "    def calculate_risk_score(self):\n",
    "        risk_score = 0\n",
    "        severity_weights = {\n",
    "            'Critical': 10,\n",
    "            'High': 7,\n",
    "            'Medium': 4,\n",
    "            'Low': 1\n",
    "        }\n",
    "        for misconfig in self.misconfigurations:\n",
    "            risk_score += severity_weights.get(misconfig['Severity'], 0)\n",
    "        return risk_score"
   ]
  },
  {
   "cell_type": "markdown",
   "id": "dcb8a4d4-a8a8-43c4-ab8b-bfa9bd542398",
   "metadata": {},
   "source": [
    "### Reporting System (reporting.py)"
   ]
  },
  {
   "cell_type": "code",
   "execution_count": 6,
   "id": "19556b43-dc70-48bb-a6a8-2d11e909baca",
   "metadata": {},
   "outputs": [],
   "source": [
    "import pandas as pd\n",
    "import json\n",
    "\n",
    "class Reporting:\n",
    "    def __init__(self, misconfigurations):\n",
    "        self.misconfigurations = misconfigurations\n",
    "\n",
    "    def generate_csv(self, filename):\n",
    "        df = pd.DataFrame(self.misconfigurations)\n",
    "        df.to_csv(filename, index=False)\n",
    "\n",
    "    def generate_json(self, filename):\n",
    "        with open(filename, 'w') as f:\n",
    "            json.dump(self.misconfigurations, f)"
   ]
  },
  {
   "cell_type": "markdown",
   "id": "c15dd135-127b-4026-92b2-7aa2651e60b9",
   "metadata": {},
   "source": [
    "### Run the Scanner"
   ]
  },
  {
   "cell_type": "code",
   "execution_count": 7,
   "id": "0fc14c0d-8dea-4a57-ae56-c038c7a2b2f7",
   "metadata": {},
   "outputs": [
    {
     "ename": "ClientError",
     "evalue": "An error occurred (AuthFailure) when calling the DescribeInstances operation: AWS was not able to validate the provided access credentials",
     "output_type": "error",
     "traceback": [
      "\u001b[1;31m---------------------------------------------------------------------------\u001b[0m",
      "\u001b[1;31mClientError\u001b[0m                               Traceback (most recent call last)",
      "Cell \u001b[1;32mIn[7], line 2\u001b[0m\n\u001b[0;32m      1\u001b[0m scanner \u001b[38;5;241m=\u001b[39m AWSScanner()\n\u001b[1;32m----> 2\u001b[0m ec2_misconfigs \u001b[38;5;241m=\u001b[39m scanner\u001b[38;5;241m.\u001b[39mscan_ec2_instances()\n\u001b[0;32m      4\u001b[0m all_misconfigs \u001b[38;5;241m=\u001b[39m ec2_misconfigs\n\u001b[0;32m      6\u001b[0m assessment \u001b[38;5;241m=\u001b[39m ConfigAssessment(all_misconfigs)\n",
      "Cell \u001b[1;32mIn[2], line 13\u001b[0m, in \u001b[0;36mAWSScanner.scan_ec2_instances\u001b[1;34m(self)\u001b[0m\n\u001b[0;32m     11\u001b[0m \u001b[38;5;28;01mdef\u001b[39;00m \u001b[38;5;21mscan_ec2_instances\u001b[39m(\u001b[38;5;28mself\u001b[39m):\n\u001b[0;32m     12\u001b[0m     \u001b[38;5;28;01mtry\u001b[39;00m:\n\u001b[1;32m---> 13\u001b[0m         instances \u001b[38;5;241m=\u001b[39m \u001b[38;5;28mself\u001b[39m\u001b[38;5;241m.\u001b[39mec2_client\u001b[38;5;241m.\u001b[39mdescribe_instances()\n\u001b[0;32m     14\u001b[0m         misconfigurations \u001b[38;5;241m=\u001b[39m []\n\u001b[0;32m     15\u001b[0m         \u001b[38;5;28;01mfor\u001b[39;00m reservation \u001b[38;5;129;01min\u001b[39;00m instances[\u001b[38;5;124m'\u001b[39m\u001b[38;5;124mReservations\u001b[39m\u001b[38;5;124m'\u001b[39m]:\n",
      "File \u001b[1;32mD:\\New folder\\Anaconda\\Lib\\site-packages\\botocore\\client.py:569\u001b[0m, in \u001b[0;36mClientCreator._create_api_method.<locals>._api_call\u001b[1;34m(self, *args, **kwargs)\u001b[0m\n\u001b[0;32m    565\u001b[0m     \u001b[38;5;28;01mraise\u001b[39;00m \u001b[38;5;167;01mTypeError\u001b[39;00m(\n\u001b[0;32m    566\u001b[0m         \u001b[38;5;124mf\u001b[39m\u001b[38;5;124m\"\u001b[39m\u001b[38;5;132;01m{\u001b[39;00mpy_operation_name\u001b[38;5;132;01m}\u001b[39;00m\u001b[38;5;124m() only accepts keyword arguments.\u001b[39m\u001b[38;5;124m\"\u001b[39m\n\u001b[0;32m    567\u001b[0m     )\n\u001b[0;32m    568\u001b[0m \u001b[38;5;66;03m# The \"self\" in this scope is referring to the BaseClient.\u001b[39;00m\n\u001b[1;32m--> 569\u001b[0m \u001b[38;5;28;01mreturn\u001b[39;00m \u001b[38;5;28mself\u001b[39m\u001b[38;5;241m.\u001b[39m_make_api_call(operation_name, kwargs)\n",
      "File \u001b[1;32mD:\\New folder\\Anaconda\\Lib\\site-packages\\botocore\\client.py:1023\u001b[0m, in \u001b[0;36mBaseClient._make_api_call\u001b[1;34m(self, operation_name, api_params)\u001b[0m\n\u001b[0;32m   1019\u001b[0m     error_code \u001b[38;5;241m=\u001b[39m error_info\u001b[38;5;241m.\u001b[39mget(\u001b[38;5;124m\"\u001b[39m\u001b[38;5;124mQueryErrorCode\u001b[39m\u001b[38;5;124m\"\u001b[39m) \u001b[38;5;129;01mor\u001b[39;00m error_info\u001b[38;5;241m.\u001b[39mget(\n\u001b[0;32m   1020\u001b[0m         \u001b[38;5;124m\"\u001b[39m\u001b[38;5;124mCode\u001b[39m\u001b[38;5;124m\"\u001b[39m\n\u001b[0;32m   1021\u001b[0m     )\n\u001b[0;32m   1022\u001b[0m     error_class \u001b[38;5;241m=\u001b[39m \u001b[38;5;28mself\u001b[39m\u001b[38;5;241m.\u001b[39mexceptions\u001b[38;5;241m.\u001b[39mfrom_code(error_code)\n\u001b[1;32m-> 1023\u001b[0m     \u001b[38;5;28;01mraise\u001b[39;00m error_class(parsed_response, operation_name)\n\u001b[0;32m   1024\u001b[0m \u001b[38;5;28;01melse\u001b[39;00m:\n\u001b[0;32m   1025\u001b[0m     \u001b[38;5;28;01mreturn\u001b[39;00m parsed_response\n",
      "\u001b[1;31mClientError\u001b[0m: An error occurred (AuthFailure) when calling the DescribeInstances operation: AWS was not able to validate the provided access credentials"
     ]
    }
   ],
   "source": [
    "scanner = AWSScanner()\n",
    "ec2_misconfigs = scanner.scan_ec2_instances()\n",
    "\n",
    "all_misconfigs = ec2_misconfigs\n",
    "\n",
    "assessment = ConfigAssessment(all_misconfigs)\n",
    "compliance_status = assessment.evaluate_compliance()\n",
    "print(\"Compliance Status:\", compliance_status)\n",
    "\n",
    "risk_scoring = RiskScoring(all_misconfigs)\n",
    "risk_score = risk_scoring.calculate_risk_score()\n",
    "print(\"Risk Score:\", risk_score)\n",
    "\n",
    "reporting = Reporting(all_misconfigs)\n",
    "reporting.generate_csv('report.csv')\n",
    "reporting.generate_json('report.json')"
   ]
  },
  {
   "cell_type": "code",
   "execution_count": null,
   "id": "053a8f3f-2334-4c94-8b83-5112225939a9",
   "metadata": {},
   "outputs": [],
   "source": []
  }
 ],
 "metadata": {
  "kernelspec": {
   "display_name": "Python 3 (ipykernel)",
   "language": "python",
   "name": "python3"
  },
  "language_info": {
   "codemirror_mode": {
    "name": "ipython",
    "version": 3
   },
   "file_extension": ".py",
   "mimetype": "text/x-python",
   "name": "python",
   "nbconvert_exporter": "python",
   "pygments_lexer": "ipython3",
   "version": "3.11.7"
  }
 },
 "nbformat": 4,
 "nbformat_minor": 5
}
